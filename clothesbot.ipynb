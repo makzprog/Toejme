{
 "cells": [
  {
   "cell_type": "code",
   "execution_count": null,
   "metadata": {},
   "outputs": [],
   "source": [
    "class Solution(object):\n",
    "    def twoSum(self, nums, target):\n",
    "        \"\"\"\n",
    "        :type nums: List[int]\n",
    "        :type target: int\n",
    "        :rtype: List[int]\n",
    "        \"\"\"\n",
    "        for num in nums:\n",
    "            if num \n",
    "\n",
    "\n"
   ]
  },
  {
   "cell_type": "code",
   "execution_count": null,
   "metadata": {},
   "outputs": [],
   "source": [
    "class Solution(object):\n",
    "    def twoSum(self, nums, target):\n",
    "        \"\"\"\n",
    "        :type nums: List[int]\n",
    "        :type target: int\n",
    "        :rtype: List[int]\n",
    "        \"\"\"\n",
    "        for num in nums:\n",
    "            if num \n",
    "\n",
    "\n"
   ]
  },
  {
   "cell_type": "code",
   "execution_count": null,
   "metadata": {},
   "outputs": [],
   "source": [
    "class Solution(object):\n",
    "    def twoSum(self, nums, target):\n",
    "        \"\"\"\n",
    "        :type nums: List[int]\n",
    "        :type target: int\n",
    "        :rtype: List[int]\n",
    "        \"\"\"\n",
    "        for num in nums:\n",
    "            if num \n",
    "\n",
    "\n"
   ]
  },
  {
   "cell_type": "code",
   "execution_count": null,
   "metadata": {},
   "outputs": [],
   "source": []
  },
  {
   "cell_type": "code",
   "execution_count": null,
   "metadata": {},
   "outputs": [],
   "source": []
  },
  {
   "cell_type": "code",
   "execution_count": null,
   "metadata": {},
   "outputs": [],
   "source": []
  },
  {
   "cell_type": "code",
   "execution_count": null,
   "metadata": {},
   "outputs": [],
   "source": [
    "class Solution(object):\n",
    "    def twoSum(self, nums, target):\n",
    "        \"\"\"\n",
    "        :type nums: List[int]\n",
    "        :type target: int\n",
    "        :rtype: List[int]\n",
    "        \"\"\"\n",
    "        for num in nums:\n",
    "            if num \n",
    "\n",
    "\n"
   ]
  },
  {
   "cell_type": "code",
   "execution_count": null,
   "metadata": {},
   "outputs": [],
   "source": []
  },
  {
   "cell_type": "code",
   "execution_count": null,
   "metadata": {},
   "outputs": [],
   "source": []
  },
  {
   "cell_type": "code",
   "execution_count": null,
   "metadata": {},
   "outputs": [],
   "source": [
    "class Solution(object):\n",
    "    def twoSum(self, nums, target):\n",
    "        \"\"\"\n",
    "        :type nums: List[int]\n",
    "        :type target: int\n",
    "        :rtype: List[int]\n",
    "        \"\"\"\n",
    "        for num in nums:\n",
    "            if num \n",
    "\n",
    "\n"
   ]
  },
  {
   "cell_type": "code",
   "execution_count": null,
   "metadata": {},
   "outputs": [],
   "source": [
    "class Solution(object):\n",
    "    def twoSum(self, nums, target):\n",
    "        \"\"\"\n",
    "        :type nums: List[int]\n",
    "        :type target: int\n",
    "        :rtype: List[int]\n",
    "        \"\"\"\n",
    "        for num in nums:\n",
    "            if num \n",
    "\n",
    "\n"
   ]
  },
  {
   "cell_type": "code",
   "execution_count": null,
   "metadata": {},
   "outputs": [],
   "source": [
    "class Solution(object):\n",
    "    def twoSum(self, nums, target):\n",
    "        \"\"\"\n",
    "        :type nums: List[int]\n",
    "        :type target: int\n",
    "        :rtype: List[int]\n",
    "        \"\"\"\n",
    "        for num in nums:\n",
    "            if num \n",
    "\n",
    "\n"
   ]
  },
  {
   "cell_type": "code",
   "execution_count": null,
   "metadata": {},
   "outputs": [],
   "source": [
    "For Similar Triangles (Same Shape, Proportional Size)\n",
    "\n",
    "Triangles are similar if their corresponding angles are equal, and their sides are proportional. Here are the rules:\n",
    "\t1.\tAA (Angle-Angle):\n",
    "If two angles of one triangle are equal to two angles of another triangle, the triangles are similar.\n",
    "\t2.\tSSS (Side-Side-Side Proportionality):\n",
    "If the corresponding sides of two triangles are proportional (i.e., the ratios of the sides are equal), the triangles are similar.\n",
    "\t3.\tSAS (Side-Angle-Side Proportionality):\n",
    "If two sides of one triangle are proportional to two sides of another triangle, and the included angle is equal, the triangles are similar."
   ]
  },
  {
   "cell_type": "code",
   "execution_count": null,
   "metadata": {},
   "outputs": [],
   "source": [
    "class Solution(object):\n",
    "    def twoSum(self, nums, target):\n",
    "        \"\"\"\n",
    "        :type nums: List[int]\n",
    "        :type target: int\n",
    "        :rtype: List[int]\n",
    "        \"\"\"\n",
    "        for num in nums:\n",
    "            if num \n",
    "\n",
    "\n"
   ]
  },
  {
   "cell_type": "code",
   "execution_count": 43,
   "metadata": {},
   "outputs": [],
   "source": [
    "nums = [2,7,11,15]\n",
    "target = 9\n"
   ]
  },
  {
   "cell_type": "code",
   "execution_count": 53,
   "metadata": {},
   "outputs": [
    {
     "name": "stdout",
     "output_type": "stream",
     "text": [
      "2\n",
      "7\n",
      "11\n",
      "15\n",
      "2\n",
      "7\n",
      "11\n",
      "15\n",
      "2\n",
      "7\n",
      "11\n",
      "15\n",
      "2\n",
      "7\n",
      "11\n",
      "15\n"
     ]
    }
   ],
   "source": [
    "for x in range(len(nums)):\n",
    "    for j in range((x)):\n",
    "        print(nums[i])"
   ]
  },
  {
   "cell_type": "code",
   "execution_count": 5,
   "metadata": {},
   "outputs": [],
   "source": [
    "import numpy as np\n",
    "\n",
    "# Define the matrix A and vector B for the new problem\n",
    "A_new_3x3 = np.array([[3, 2, -4],\n",
    "                      [-2, 0, 20],\n",
    "                      [4, 8, 26]])\n",
    "\n",
    "B_new_3x3 = np.array([-4, 14, 14])\n",
    "\n",
    "# Compute the inverse of A_new_3x3\n",
    "A_new_3x3_inv = np.linalg.inv(A_new_3x3)\n",
    "\n",
    "# Solve for the vector [x, y, z] by multiplying the inverse of A_new_3x3 with B_new_3x3\n",
    "solution_new_3x3 = np.dot(A_new_3x3_inv, B_new_3x3)\n",
    "\n",
    "solution_new_3x3"
   ]
  },
  {
   "cell_type": "code",
   "execution_count": 9,
   "metadata": {},
   "outputs": [
    {
     "data": {
      "text/plain": [
       "array([ 3., -3.,  1.])"
      ]
     },
     "execution_count": 9,
     "metadata": {},
     "output_type": "execute_result"
    }
   ],
   "source": [
    "threex3_mat = np.array([[3, -12, 9],\n",
    "                        [-2, 10, 14],\n",
    "                        [2, -10, -12]])\n",
    "\n",
    "bmatrix_mat = np.array(([54, -22, 24]))\n",
    "\n",
    "invers_mat = np.linalg.inv(threex3_mat)\n",
    "\n",
    "solution = np.dot(invers_mat, bmatrix_mat)\n",
    "\n",
    "\n",
    "solution\n",
    "\n"
   ]
  },
  {
   "cell_type": "code",
   "execution_count": null,
   "metadata": {},
   "outputs": [],
   "source": [
    "threex3_mat = np.array([[3, -12, 9],\n",
    "                        [-2, 10, 14],\n",
    "                        [2, -10, -12]])\n",
    "\n",
    "bmatrix_mat = np.array(([54, -22, 24]))\n",
    "\n",
    "invers_mat = np.linalg.inv(threex3_mat)\n",
    "\n",
    "solution = np.dot(invers_mat, bmatrix_mat)\n",
    "\n",
    "\n",
    "solution\n",
    "\n",
    "threex3_mat = np.array([[3, -12, 9],\n",
    "                        [-2, 10, 14],\n",
    "                        [2, -10, -12]])\n",
    "\n",
    "bmatrix_mat = np.array(([54, -22, 24]))\n",
    "\n",
    "invers_mat = np.linalg.inv(threex3_mat)\n",
    "\n",
    "solution = np.dot(invers_mat, bmatrix_mat)\n",
    "\n",
    "\n",
    "solution\n",
    "\n"
   ]
  },
  {
   "cell_type": "code",
   "execution_count": null,
   "metadata": {},
   "outputs": [],
   "source": [
    "class Solution(object):\n",
    "    def twoSum(self, nums, target):\n",
    "        \"\"\"\n",
    "        :type nums: List[int]\n",
    "        :type target: int\n",
    "        :rtype: List[int]\n",
    "        \"\"\"\n",
    "        for num in nums:\n",
    "            if num \n",
    "\n",
    "\n"
   ]
  },
  {
   "cell_type": "code",
   "execution_count": null,
   "metadata": {},
   "outputs": [],
   "source": [
    "def isValid(self, s):\n",
    "    \"\"\"\n",
    "    :type s: str\n",
    "    :rtype: bool\n",
    "    \"\"\"\n",
    "    stack = []\n",
    "    \n",
    "    for i in s:\n",
    "        stack.append(i)\n",
    "        \n",
    "        if stack[0] == \"(\":\n",
    "            stack "
   ]
  },
  {
   "cell_type": "code",
   "execution_count": null,
   "metadata": {},
   "outputs": [],
   "source": [
    "class Solution(object):\n",
    "    def twoSum(self, nums, target):\n",
    "        \"\"\"\n",
    "        :type nums: List[int]\n",
    "        :type target: int\n",
    "        :rtype: List[int]\n",
    "        \"\"\"\n",
    "        for num in nums:\n",
    "            if num \n",
    "\n",
    "\n"
   ]
  },
  {
   "cell_type": "code",
   "execution_count": null,
   "metadata": {},
   "outputs": [],
   "source": [
    "2f"
   ]
  },
  {
   "cell_type": "code",
   "execution_count": null,
   "metadata": {},
   "outputs": [],
   "source": [
    "def isValid(self, s):\n",
    "    \"\"\"\n",
    "    :type s: str\n",
    "    :rtype: bool\n",
    "    \"\"\"\n",
    "    stack = []\n",
    "    \n",
    "    for i in s:\n",
    "        stack.append(i)\n",
    "        \n",
    "        if stack[0] == \"(\":\n",
    "            stack "
   ]
  },
  {
   "cell_type": "code",
   "execution_count": null,
   "metadata": {},
   "outputs": [],
   "source": [
    "def isValid(self, s):\n",
    "    \"\"\"\n",
    "    :type s: str\n",
    "    :rtype: bool\n",
    "    \"\"\"\n",
    "    stack = []\n",
    "    \n",
    "    for i in s:\n",
    "        stack.append(i)\n",
    "        \n",
    "        if stack[0] == \"(\":\n",
    "            stack "
   ]
  },
  {
   "cell_type": "code",
   "execution_count": null,
   "metadata": {},
   "outputs": [],
   "source": []
  },
  {
   "cell_type": "code",
   "execution_count": null,
   "metadata": {},
   "outputs": [],
   "source": [
    "def isValid(self, s):\n",
    "    \"\"\"\n",
    "    :type s: str\n",
    "    :rtype: bool\n",
    "    \"\"\"\n",
    "    stack = []\n",
    "    \n",
    "    for i in s:\n",
    "        stack.append(i)\n",
    "        \n",
    "        if stack[0] == \"(\":\n",
    "            stack "
   ]
  },
  {
   "cell_type": "code",
   "execution_count": null,
   "metadata": {},
   "outputs": [],
   "source": [
    "def isValid(self, s):\n",
    "    \"\"\"\n",
    "    :type s: str\n",
    "    :rtype: bool\n",
    "    \"\"\"\n",
    "    stack = []\n",
    "    \n",
    "    for i in s:\n",
    "        stack.append(i)\n",
    "        \n",
    "        if stack[0] == \"(\":\n",
    "            stack "
   ]
  },
  {
   "cell_type": "code",
   "execution_count": null,
   "metadata": {},
   "outputs": [],
   "source": []
  },
  {
   "cell_type": "code",
   "execution_count": null,
   "metadata": {},
   "outputs": [],
   "source": []
  },
  {
   "cell_type": "code",
   "execution_count": null,
   "metadata": {},
   "outputs": [],
   "source": [
    "def isValid(self, s):git \n",
    "    \"\"\"\n",
    "    :type s: str\n",
    "    :rtype: bool\n",
    "    \"\"\"\n",
    "    stack = []\n",
    "    \n",
    "    for i in s:\n",
    "        stack.append(i)\n",
    "        \n",
    "        if stack[0] == \"(\":\n",
    "            stack "
   ]
  },
  {
   "cell_type": "code",
   "execution_count": null,
   "metadata": {},
   "outputs": [],
   "source": []
  },
  {
   "cell_type": "code",
   "execution_count": null,
   "metadata": {},
   "outputs": [],
   "source": [
    "def isValid(self, s):git \n",
    "    \"\"\"\n",
    "    :type s: str\n",
    "    :rtype: bool\n",
    "    \"\"\"\n",
    "    stack = []\n",
    "    \n",
    "    for i in s:\n",
    "        stack.append(i)\n",
    "        \n",
    "        if stack[0] == \"(\":\n",
    "            stack "
   ]
  }
 ],
 "metadata": {
  "kernelspec": {
   "display_name": "Python 3",
   "language": "python",
   "name": "python3"
  },
  "language_info": {
   "codemirror_mode": {
    "name": "ipython",
    "version": 3
   },
   "file_extension": ".py",
   "mimetype": "text/x-python",
   "name": "python",
   "nbconvert_exporter": "python",
   "pygments_lexer": "ipython3",
   "version": "3.9.6"
  }
 },
 "nbformat": 4,
 "nbformat_minor": 2
}
